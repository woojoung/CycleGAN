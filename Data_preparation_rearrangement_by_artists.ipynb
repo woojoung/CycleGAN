{
 "cells": [
  {
   "cell_type": "markdown",
   "metadata": {
    "collapsed": true
   },
   "source": [
    "## - sorted by artist"
   ]
  },
  {
   "cell_type": "code",
   "execution_count": 1,
   "metadata": {},
   "outputs": [
    {
     "name": "stdout",
     "output_type": "stream",
     "text": [
      "Total count of arts: 79434\n",
      "Total count of artists more than 250 arts : 53\n",
      "Done for sorting csv file by artist!!\n"
     ]
    }
   ],
   "source": [
    "import csv\n",
    "from collections import Counter\n",
    "\n",
    "with open('/Users/chaeujeong/Desktop/Todays_painter/Data/train_info.csv', mode='r', encoding='utf-8') as read_file:\n",
    "    reader = list(csv.reader(read_file)) # read a reader twice and more\n",
    "    #next(reader, None) # skip header : ['filename', 'artist', 'title', 'style', 'genre', 'date']\n",
    "    \n",
    "    temp_artists = []\n",
    "    artists = []\n",
    "    \n",
    "    for row in reader:\n",
    "        \n",
    "        #print(row) # row[0] ~ row[5] :  elements of list ['filename', 'artist', 'title', 'style', 'genre', 'date']\n",
    "        temp_artists.append(row[1])\n",
    "    \n",
    "    #print(Counter(temp_artists)) # before removing duplicated, max: '3cc9a44380296d93e68b71a27643c25f': 413\n",
    "    print('Total count of arts: %d' % len(temp_artists)) # 79434\n",
    "    c = Counter(temp_artists)\n",
    "    #print(c['3cc9a44380296d93e68b71a27643c25f'])\n",
    "    #print(type(c),c) # <class 'collections.Counter'>\n",
    "\n",
    "    for name in temp_artists: # 작가 이름 들이 주루룩 하나하나씩 \n",
    "        #print(\"yo\")\n",
    "        if c[name] >= 250: # 작품 수 가 250개 이상인 작가들만 따로 리스트에 담기.\n",
    "            artists.append(name)\n",
    "        else:\n",
    "            continue\n",
    "        \n",
    "    #print(Counter(artists))  # before removing duplicated\n",
    "    #print(artists)    \n",
    "    artist_names = list(set(artists)) # removing duplicated and create new list for artist names\n",
    "    #print(artist_names)\n",
    "    #print(Counter(artist_names))  # after removing duplicated\n",
    "    \n",
    "    print(\"Total count of artists more than 250 arts : %d\" % len(artist_names)) # 작품 수 250 이상인 작가들 53명이 나와야함.\n",
    "\n",
    "    #print(artist_names)\n",
    "    \n",
    "    colname = ['filename', 'title', 'style', 'genre', 'date']\n",
    "    \n",
    "    for arti_name in artist_names: # 53\n",
    "        newList = []\n",
    "        #print('arti_name')\n",
    "        for row in reader: # 79434\n",
    "            #print('row')\n",
    "            if row[1] == arti_name:\n",
    "                newList.append([row[0], row[2], row[3], row[4], row[5]])\n",
    "            else:\n",
    "                continue\n",
    "        with open('/Users/chaeujeong/Desktop/Todays_painter/Data/' + arti_name + '.csv', 'w', encoding='utf-8') as write_file:\n",
    "            # arti_name instead of row[1]\n",
    "            writer = csv.writer(write_file, delimiter=',')\n",
    "            writer.writerow(colname)\n",
    "            writer.writerows(newList)\n",
    "        newList.clear()\n",
    "        \n",
    "    print(\"Done for sorting csv file by artist!!\")\n"
   ]
  },
  {
   "cell_type": "markdown",
   "metadata": {
    "collapsed": true
   },
   "source": [
    "## - select painting by artist"
   ]
  },
  {
   "cell_type": "markdown",
   "metadata": {
    "collapsed": true
   },
   "source": [
    "csv file이 있는 디렉터리 접근\n",
    "csv file 안의 filename 리스트 생성\n",
    "train_image folder 접근\n",
    "train_image 폴더 안의 이미지 파일이 filename 리스트에 있는지 확인\n",
    "리스트에 있으면 csv 파일 이름과 같은 이름으로 폴더 생성\n",
    "만든 폴더 안으로 image file을 이동(move)"
   ]
  },
  {
   "cell_type": "code",
   "execution_count": 4,
   "metadata": {},
   "outputs": [
    {
     "name": "stdout",
     "output_type": "stream",
     "text": [
      "e1587900e782de448f604b37cde0fdfd\n",
      "b844978933b7ae43e32ce775494821eb\n",
      "db1318d32df7428076e03513ebf762bb\n",
      "8cdd41002b7b5c5d112865054a7fe13e\n",
      "1468ab18764365ded902fc726aec2c89\n",
      "40f86d376acde0d9862ce7493745bdae\n",
      "62b4406512c45730d2c7c40f5e3d0d12\n",
      "c9380d13360b37f21cfd174d92a7247e\n",
      "5aabfc58470d01bb2362795a44a2603b\n",
      "c31b03be3da5810b44ea4782d2f3b8a0\n",
      "54e7b38b5c91716bd3ad99a0ab740a18\n",
      "6460e3ba02dfa3b57ebf5d3d0823aa47\n",
      "c16781c4321948227193214b68477a5c\n",
      "d09f796f2b0aa11dffc88badd9806119\n",
      "147b0f64f4c2848bc0ad7bc1cdf74afe\n",
      "1a8d67dbb446bdc4298cc0be56932a38\n",
      "31dbc08b8d0a3196c5484c0c068b2bcc\n",
      "c3e9d9ebe5f2900190bef9342c440bd9\n",
      "3f8dc381ccfe9d5cc88b75970262715b\n",
      "f7e1cb7b67e7b154d9dca7d12879d7b0\n",
      "8e441c5899bf3d2f3b2c493e62fb92bf\n",
      "8a1a67964c0cbea29fc9801b5c42c553\n",
      "397c63db1c7b507d23abff3f8bb0fa18\n",
      "129349585c3d1f312535b6619fc36bf7\n",
      "b36edf57ed623e40e433565053f5f6ca\n",
      "80687062449ff7454e2c8926be56f643\n",
      "cc47068929413a16aa707faefbdf4b70\n",
      "3edc6a404b8c67b7dad1405d52228c96\n",
      "10bc951c2eb4a2f05fa773bdaace4e3b\n",
      "3937af6d364e2f24d1cce16fe3916536\n",
      "512fb34e01bd21a92e7ec1380577c985\n",
      "3cc9a44380296d93e68b71a27643c25f\n",
      "ce3d8977aae5986601232aa58d15282a\n",
      "b874a616affcb766bb0e7a4f2a0803f0\n",
      "481c5c92d55717167e01821144a54635\n",
      "dc589f213ba7bd398714ac2796b7c0ab\n",
      "121fffad1eb6f7dff228b8a71b6aec72\n",
      "dd4989789d310581024ae2b9203d5439\n",
      "bc0ddf03c667c5edb17982be481ef360\n",
      "96e7b1bc8d52e18caf0af34fec2e9bcb\n",
      "d8a3c897c506be7de91d8f892f14f934\n",
      "bd14ef3c1a25cf0c5368ccd92a3c5f04\n",
      "5fc2ffdd3d24ab503edd9a271dc379bd\n",
      "a6027a4ba71b61a55ea598379c9d508c\n",
      "49bb8d79587c2172c6cd04dd705fd891\n",
      "234c8d1df0b49b512791078cf00cf352\n",
      "1950e9aa6ad878bc2a330880f77ae5a1\n",
      "e60882af79cababb03ddfa980a75448c\n",
      "6f80666437feea42f295cdc0f1eb4df9\n",
      "0eeac4ecff259dc515be795e1a76019a\n",
      "50591a7061fb340d875723f38e00cc3b\n",
      "c8041306a183cbaf39ff8cd707c9cc7f\n",
      "83e9823eb4868ca162fd3b7adff70096\n",
      "Done for selecting paintings by artist!!\n"
     ]
    }
   ],
   "source": [
    "import csv\n",
    "import shutil\n",
    "import os\n",
    "\n",
    "# csv file이 있는 디렉터리 접근\n",
    "path = '/Users/chaeujeong/Desktop/Todays_painter/Data'\n",
    "csv_dirs = os.listdir(path)\n",
    "\n",
    "img_path = csv_path + '/train_image'\n",
    "img_dirs = os.listdir(img_path)\n",
    "\n",
    "#print(csv_dirs)\n",
    "\n",
    "# This would print all the files and directories\n",
    "csv_file = []\n",
    "for file in csv_dirs:\n",
    "    if len(str(file)) > 20:\n",
    "        #print(file)\n",
    "        #name, _type = file.split(\".\")\n",
    "        #print(name)\n",
    "        csv_file.append(file)\n",
    "    else:\n",
    "        continue\n",
    "#print(csv_file)\n",
    "\n",
    "img_file = []\n",
    "for file in img_dirs:\n",
    "    img_file.append(file)\n",
    "#print(img_file)\n",
    "\n",
    "\n",
    "# open csv file\n",
    "for filename in csv_file:\n",
    "    name = filename.split('.', 2)\n",
    "    print(name[0])\n",
    "    destination = path + '/' + name[0]\n",
    "    os.makedirs(destination)\n",
    "    #print('check2')\n",
    "    with open(path + '/' + filename, mode='r', encoding='utf-8') as read_file:\n",
    "        reader = list(csv.reader(read_file))\n",
    "        #print('check3')\n",
    "        for row in reader:\n",
    "            #print(row[0]) # image file name\n",
    "            if row[0] in img_file:\n",
    "                shutil.move(img_path + '/' + row[0], destination)\n",
    "                \n",
    "print(\"Done for selecting paintings by artist!!\")\n",
    "\n",
    "        "
   ]
  },
  {
   "cell_type": "code",
   "execution_count": null,
   "metadata": {
    "collapsed": true
   },
   "outputs": [],
   "source": []
  }
 ],
 "metadata": {
  "kernelspec": {
   "display_name": "Python 3",
   "language": "python",
   "name": "python3"
  },
  "language_info": {
   "codemirror_mode": {
    "name": "ipython",
    "version": 3
   },
   "file_extension": ".py",
   "mimetype": "text/x-python",
   "name": "python",
   "nbconvert_exporter": "python",
   "pygments_lexer": "ipython3",
   "version": "3.6.3"
  }
 },
 "nbformat": 4,
 "nbformat_minor": 2
}
